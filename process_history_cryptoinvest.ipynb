{
 "cells": [
  {
   "cell_type": "code",
   "execution_count": 12,
   "metadata": {
    "collapsed": true
   },
   "outputs": [],
   "source": [
    "import pandas as pd\n",
    "import gzip\n",
    "import json\n",
    "import re\n",
    "import datetime\n",
    "import numpy as np"
   ]
  },
  {
   "cell_type": "code",
   "execution_count": 52,
   "metadata": {},
   "outputs": [
    {
     "name": "stderr",
     "output_type": "stream",
     "text": [
      "/opt/boxen/data/virturalenvs/p3/lib/python3.6/site-packages/IPython/core/interactiveshell.py:2717: DtypeWarning: Columns (5) have mixed types. Specify dtype option on import or set low_memory=False.\n",
      "  interactivity=interactivity, compiler=compiler, result=result)\n"
     ]
    }
   ],
   "source": [
    "data_source = \"data/coinmarketcap_formatted.tsv\"\n",
    "all_data = pd.read_csv(data_source, sep='\\t', header=0, encoding=\"utf-8\", dtype={'Market Cap': np.float64, 'Total Market Cap': np.float64})\n",
    "all_data[\"Market Cap Share\"] = all_data[\"Market Cap\"]/all_data[\"Total Market Cap\"]"
   ]
  },
  {
   "cell_type": "code",
   "execution_count": 87,
   "metadata": {
    "collapsed": true
   },
   "outputs": [],
   "source": [
    "def convert_coins_to_usd(date_data, coins):\n",
    "    amount_usd = 0\n",
    "    for coin_symbol, number_of_coins in coins.items():\n",
    "        try:\n",
    "            coin_usd = float(date_data[date_data[\"Symbol\"] == coin_symbol][\"Price\"].values[0])\n",
    "        except:\n",
    "            coin_usd = 0\n",
    "        amount_usd += number_of_coins * coin_usd\n",
    "    return amount_usd"
   ]
  },
  {
   "cell_type": "code",
   "execution_count": 120,
   "metadata": {},
   "outputs": [],
   "source": [
    "def buy_coins(date_data, amount_usd, buy_x_first, skip_x_first=0):\n",
    "    max_pos = buy_x_first + skip_x_first\n",
    "    coins_to_buy_data = date_data[(date_data[\"Pos\"] <= max_pos) & (date_data[\"Pos\"] > skip_x_first)]\n",
    "    coins = {}\n",
    "    coins_usd = {}\n",
    "    for index, _ in coins_to_buy_data[\"Price\"].iteritems():\n",
    "        coin_usd = float(date_data[\"Price\"][index])\n",
    "        coin_symbol = date_data[\"Symbol\"][index]\n",
    "        normalize_market_cap_share = coins_to_buy_data[\"Market Cap Share\"][index]/coins_to_buy_data[\"Market Cap Share\"].sum().astype(np.float64)\n",
    "        total_of_coin = 1.0 * normalize_market_cap_share * amount_usd / coin_usd\n",
    "        coins[coin_symbol] = total_of_coin\n",
    "        coins_usd[coin_symbol] = total_of_coin * coin_usd\n",
    "    return coins, coins_usd\n",
    "\n",
    "def buy_coins_equaly(date_data, amount_usd, buy_x_first, skip_x_first=0):\n",
    "    max_pos = buy_x_first + skip_x_first\n",
    "    coins_to_buy_data = date_data[(date_data[\"Pos\"] <= max_pos) & (date_data[\"Pos\"] > skip_x_first)]\n",
    "    coins = {}\n",
    "    coins_usd = {}\n",
    "    for index, _ in coins_to_buy_data[\"Price\"].iteritems():\n",
    "        coin_usd = float(date_data[\"Price\"][index])\n",
    "        coin_symbol = date_data[\"Symbol\"][index]\n",
    "        total_of_coin = 1.0 * (amount_usd/buy_x_first) / coin_usd\n",
    "        coins[coin_symbol] = total_of_coin\n",
    "        coins_usd[coin_symbol] = total_of_coin * coin_usd\n",
    "    return coins, coins_usd\n",
    "\n",
    "def buy_coins_factor(date_data, amount_usd, buy_x_first, skip_x_first=0, factor=3):\n",
    "    mult = factor\n",
    "    step = (mult-1)/buy_x_first\n",
    "    max_pos = buy_x_first + skip_x_first\n",
    "    coins_to_buy_data = date_data[(date_data[\"Pos\"] <= max_pos) & (date_data[\"Pos\"] > skip_x_first)]\n",
    "    coins = {}\n",
    "    coins_usd = {}\n",
    "    new_total_market_cap = 0\n",
    "    curr_mult = 1\n",
    "    for index, _ in coins_to_buy_data[\"Price\"].iteritems():\n",
    "        new_total_market_cap += curr_mult*coins_to_buy_data[\"Market Cap\"][index]\n",
    "        curr_mult += step\n",
    "\n",
    "    curr_mult = 1\n",
    "    for index, _ in coins_to_buy_data[\"Price\"].iteritems():\n",
    "        coin_usd = float(date_data[\"Price\"][index])\n",
    "        coin_symbol = date_data[\"Symbol\"][index]\n",
    "        normalize_market_cap_share = curr_mult*coins_to_buy_data[\"Market Cap\"][index]/new_total_market_cap\n",
    "        total_of_coin = 1.0 * normalize_market_cap_share * amount_usd / coin_usd\n",
    "        coins[coin_symbol] = total_of_coin\n",
    "        coins_usd[coin_symbol] = total_of_coin * coin_usd\n",
    "        curr_mult += step\n",
    "    return coins, coins_usd\n",
    "    "
   ]
  },
  {
   "cell_type": "code",
   "execution_count": 89,
   "metadata": {
    "collapsed": true
   },
   "outputs": [],
   "source": [
    "def calculate_returns(buy_x_first, start_date, end_date, coins, skip_x_first=0):\n",
    "    max_pos = buy_x_first + skip_x_first\n",
    "    to_return = []\n",
    "    last_coins = {}\n",
    "    dates = sorted(list(all_data[(all_data[\"Date\"] >= start_date) & (all_data[\"Date\"] <= end_date)][\"Date\"].unique()))\n",
    "    for date_ in dates:\n",
    "        ## Convert to usd\n",
    "        date_data = all_data[(all_data[\"Date\"] == date_)]\n",
    "        amount_usd = convert_coins_to_usd(date_data, coins)\n",
    "        to_return.append([date_, round(amount_usd, 2)])\n",
    "\n",
    "        # Buy top X coins\n",
    "        coins_to_buy_data = date_data[(date_data[\"Pos\"] <= max_pos) & (date_data[\"Pos\"] > skip_x_first)]\n",
    "        coins, coins_usd = buy_coins(date_data, amount_usd, buy_x_first, skip_x_first=skip_x_first)\n",
    "        last_coins = [coins, coins_usd]\n",
    "        \n",
    "    return to_return, last_coins\n"
   ]
  },
  {
   "cell_type": "code",
   "execution_count": 63,
   "metadata": {
    "collapsed": true
   },
   "outputs": [],
   "source": [
    "#You have to select a date that is available in the dataset\n",
    "def print_returns_usings_topx(start_date, end_date, initial_coins, buy_x_firsts, show_coins_to_buy=False, skip_x_first=0):\n",
    "    print(\"From: %s to %s\" %(start_date, end_date))\n",
    "    initial = True\n",
    "    coins_to_buy = {}\n",
    "    print(\"Top X Coins\\tFinal Growth\")\n",
    "    for buy_x_first in buy_x_firsts:\n",
    "        calculated_values, coins_to_buy = calculate_returns(buy_x_first, start_date, end_date, initial_coins, skip_x_first=skip_x_first)\n",
    "        print(\"%s\\t%s\" % (buy_x_first, \"%s%%\" % round(100* (calculated_values[-1][1]/calculated_values[0][1]-1),2)))\n",
    "    if show_coins_to_buy:\n",
    "        print(\"\")\n",
    "        print(\"\\t\".join([\"Coin\", \"Total Coins\", \"Coin Price USD\", \"Total USD\"]))\n",
    "        for coin in coins_to_buy[0].keys():\n",
    "            print(\n",
    "                \"\\t\".join([\n",
    "                    str(coin),\n",
    "                    str(coins_to_buy[0][coin]),\n",
    "                    str(coins_to_buy[1][coin]/coins_to_buy[0][coin]), \n",
    "                    str(coins_to_buy[1][coin])\n",
    "                ])\n",
    "            )\n"
   ]
  },
  {
   "cell_type": "code",
   "execution_count": 69,
   "metadata": {},
   "outputs": [
    {
     "name": "stdout",
     "output_type": "stream",
     "text": [
      "From: 2017-01-01 to 2017-04-16\n",
      "Top X Coins\tFinal Growth\n",
      "1\t-100.0%\n",
      "2\t-100.0%\n",
      "3\t112.27%\n",
      "5\t232.66%\n",
      "10\t228.6%\n",
      "20\t200.17%\n",
      "100\t198.93%\n"
     ]
    }
   ],
   "source": [
    "start_date, end_date = \"2017-01-01\", \"2017-04-16\"\n",
    "initial_coins = {\n",
    "    \"BTC\": 10\n",
    "}\n",
    "buy_x_firsts = [1,2,3,5,10,20,100]\n",
    "skip_x_first = 2\n",
    "print_returns_usings_topx(start_date, end_date, initial_coins, buy_x_firsts, skip_x_first=skip_x_first)\n"
   ]
  },
  {
   "cell_type": "code",
   "execution_count": 59,
   "metadata": {},
   "outputs": [
    {
     "name": "stdout",
     "output_type": "stream",
     "text": [
      "From: 2017-01-01 to 2017-04-16\n",
      "Top X Coins\tFinal Growth\n",
      "1\t22.43%\n",
      "2\t43.59%\n",
      "3\t45.79%\n",
      "5\t51.35%\n",
      "10\t54.3%\n",
      "20\t54.91%\n",
      "100\t57.5%\n"
     ]
    }
   ],
   "source": [
    "start_date, end_date = \"2017-01-01\", \"2017-04-16\"\n",
    "initial_coins = {\n",
    "    \"BTC\": 10\n",
    "}\n",
    "buy_x_firsts = [1,2,3,5,10,20,100]\n",
    "skip_x_first = 0\n",
    "print_returns_usings_topx(start_date, end_date, initial_coins, buy_x_firsts)\n"
   ]
  },
  {
   "cell_type": "code",
   "execution_count": 8,
   "metadata": {},
   "outputs": [
    {
     "name": "stdout",
     "output_type": "stream",
     "text": [
      "From: 2017-04-23 to 2017-04-23\n",
      "Top X Coins\tFinal Growth\n",
      "5\t0.0%\n",
      "\n",
      "Coin\tTotal Coins\tCoin Price USD\tTotal USD\n",
      "BTC\t33.5320383522\t1224.68\t41066.0167292\n",
      "ETH\t187.265866776\t48.47\t9076.77656265\n",
      "XRP\t77988.1300197\t0.031566\t2461.7733122\n",
      "LTC\t104.523714191\t13.85\t1447.65344155\n",
      "DASH\t14.9193678375\t70.94\t1058.37995439\n"
     ]
    }
   ],
   "source": [
    "start_date, end_date = \"2017-04-23\", \"2017-04-23\"\n",
    "initial_coins = {\n",
    "    \"BTC\": 45\n",
    "}\n",
    "buy_x_firsts = [5]\n",
    "print_returns_usings_topx(start_date, end_date, initial_coins, buy_x_firsts, show_coins_to_buy=True)\n",
    "\n"
   ]
  },
  {
   "cell_type": "code",
   "execution_count": 134,
   "metadata": {},
   "outputs": [
    {
     "name": "stdout",
     "output_type": "stream",
     "text": [
      "32077.6854151\n",
      "56994.74096037766\n",
      "33069.9491092\n"
     ]
    }
   ],
   "source": [
    "start_date = \"2016-04-17\"\n",
    "amount_usd = 10000\n",
    "buy_x_first = 5\n",
    "skip_x_first = 0\n",
    "date_data = all_data[(all_data[\"Date\"] == start_date)]\n",
    "coins, coins_usd = buy_coins(date_data, amount_usd, buy_x_first, skip_x_first)\n",
    "coins_eq, coins_eq_usd = buy_coins_equaly(date_data, amount_usd, buy_x_first, skip_x_first)\n",
    "coins_factor, coins_factor_usd = buy_coins_factor(date_data, amount_usd, buy_x_first, skip_x_first, factor=2)\n",
    "\n",
    "end_date = \"2017-04-23\"\n",
    "date_data = all_data[(all_data[\"Date\"] == end_date)]\n",
    "print(convert_coins_to_usd(date_data, coins))\n",
    "print(convert_coins_to_usd(date_data, coins_eq))\n",
    "print(convert_coins_to_usd(date_data, coins_factor))"
   ]
  },
  {
   "cell_type": "code",
   "execution_count": null,
   "metadata": {
    "collapsed": true
   },
   "outputs": [],
   "source": []
  }
 ],
 "metadata": {
  "kernelspec": {
   "display_name": "Python 3",
   "language": "python",
   "name": "python3"
  },
  "language_info": {
   "codemirror_mode": {
    "name": "ipython",
    "version": 3
   },
   "file_extension": ".py",
   "mimetype": "text/x-python",
   "name": "python",
   "nbconvert_exporter": "python",
   "pygments_lexer": "ipython3",
   "version": "3.6.0"
  }
 },
 "nbformat": 4,
 "nbformat_minor": 2
}
