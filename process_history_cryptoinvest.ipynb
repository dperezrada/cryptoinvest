{
 "cells": [
  {
   "cell_type": "code",
   "execution_count": 4,
   "metadata": {
    "collapsed": true
   },
   "outputs": [],
   "source": [
    "import pandas as pd\n",
    "import gzip\n",
    "import json\n",
    "import re\n",
    "import datetime\n",
    "import numpy as np"
   ]
  },
  {
   "cell_type": "code",
   "execution_count": 25,
   "metadata": {
    "collapsed": true
   },
   "outputs": [],
   "source": [
    "class Coinmarketcap(object):\n",
    "    @staticmethod\n",
    "    def load_data(source_datapath):\n",
    "        by_date_data = {}\n",
    "        all_data = pd.read_csv(source_datapath, sep='\\t', header=0, encoding=\"utf-8\", dtype={'Market Cap': np.float64, 'Total Market Cap': np.float64})\n",
    "        all_data[\"Market Cap Share\"] = all_data[\"Market Cap\"]/all_data[\"Total Market Cap\"]\n",
    "        for index, value in all_data['Date'].items():\n",
    "            date = value\n",
    "            symbol = all_data['Symbol'][index]\n",
    "            price = all_data['Price'][index]\n",
    "            marketcap = all_data['Market Cap'][index]\n",
    "            position = all_data['Pos'][index]\n",
    "            if by_date_data.get(date) is None:\n",
    "                by_date_data[date] = {'symbols': {}, 'positions': []}\n",
    "            by_date_data[date]['symbols'][symbol] = {\n",
    "                \"price\": price,\n",
    "                \"marketcap\": marketcap\n",
    "            }\n",
    "            by_date_data[date]['positions'].append([symbol, position])\n",
    "        for date in by_date_data.keys():\n",
    "            by_date_data[date]['positions'] = [el[0] for el in sorted(by_date_data[date]['positions'], key=lambda x: x[1])]\n",
    "        return all_data, by_date_data\n",
    "\n",
    "    def __init__(self, source_datapath):\n",
    "        self.data, self.by_date_data = self.load_data(source_datapath)\n",
    "    \n",
    "    def get_coin_price(self, date, coin_symbol):\n",
    "        try:\n",
    "            return float(self.by_date_data[date]['symbols'][coin_symbol]['price'])\n",
    "        except:\n",
    "            print(\"ERROR: price not found for coin %s (%s)\" % (coin_symbol, date))\n",
    "            return 0\n",
    "\n",
    "    def coins_to_usd(self, date, coins):\n",
    "        amount_usd = 0\n",
    "        for coin_symbol, amount in coins.items():\n",
    "            coin_usd = self.get_coin_price(date, symbol)\n",
    "            amount_usd += amount * coin_usd\n",
    "        return amount_usd\n",
    "    \n",
    "    def buy_coin(self, date, symbol, amount_usd):\n",
    "        return amount_usd/self.get_coin_price(date, symbol)\n",
    "    \n",
    "    def buy_coins(self, date, symbols, amount_usd, strategy=\"even\"):\n",
    "        symbols_length = len(symbols)\n",
    "        coins = {}\n",
    "        if strategy == \"market_cap\":\n",
    "            coins_market_cap = {}\n",
    "            total_market_cap = 0\n",
    "            for coin_symbol in symbols:\n",
    "                coins_market_cap[coin_symbol] = self.get_coin_market_cap(date, coin_symbol)\n",
    "                total_market_cap += coins_market_cap[coin_symbol]\n",
    "        for coin_symbol in symbols:\n",
    "            coin_amount_usd = 0\n",
    "            if strategy == \"even\":\n",
    "                coin_amount_usd = (amount_usd/symbols_length)\n",
    "            elif strategy == \"market_cap\":\n",
    "                coin_amount_usd = (amount_usd*(coins_market_cap[coin_symbol]/total_market_cap))\n",
    "            coins[coin_symbol] = self.buy_coin(date, coin_symbol, coin_amount_usd)\n",
    "        return coins\n",
    "    \n",
    "    def sell_coins(self, date, coins):\n",
    "        amount_usd = 0\n",
    "        for coin_symbol, coin_amount in coins.items():\n",
    "            coin_price = self.get_coin_price(date, coin_symbol)\n",
    "            amount_usd += coin_price*coin_amount\n",
    "        return amount_usd\n",
    "    \n",
    "    def get_coin_market_cap(self, date, coin_symbol):\n",
    "        return float(self.by_date_data[date]['symbols'][coin_symbol]['marketcap'])\n",
    "            \n",
    "    def get_positions_range(self, date, first_position, last_position):\n",
    "        return self.by_date_data[date]['positions'][first_position-1:last_position]\n",
    "    \n",
    "    def dates(self):\n",
    "        return sorted(self.data.Date.unique())\n",
    "    \n",
    "    def print_returns(self, initial_amount, initial_date, final_amount, final_date):\n",
    "        print(\"%s: %s USD\" % (initial_date, round(initial_amount, 2)))\n",
    "        print(\"%s: %s USD\" % (end_date, round(final_amount, 2)))\n",
    "        print(\"----------\")\n",
    "        print(\"%sX\" % round(final_amount/initial_amount, 1))\n",
    "        "
   ]
  },
  {
   "cell_type": "code",
   "execution_count": 26,
   "metadata": {
    "collapsed": true
   },
   "outputs": [],
   "source": [
    "class InvestStrategies(object):\n",
    "    def __init__(self, market):\n",
    "        self.market = market"
   ]
  },
  {
   "cell_type": "markdown",
   "metadata": {},
   "source": [
    "# Initialize"
   ]
  },
  {
   "cell_type": "code",
   "execution_count": 27,
   "metadata": {},
   "outputs": [],
   "source": [
    "market = Coinmarketcap(\"data/coinmarketcap_formatted.tsv\")\n",
    "all_dates = market.dates()\n",
    "weeks_ago = 52\n",
    "initial_amount = 1000\n",
    "start_date = all_dates[-weeks_ago]\n",
    "end_date = all_dates[-1]"
   ]
  },
  {
   "cell_type": "markdown",
   "metadata": {},
   "source": [
    "# Strategies"
   ]
  },
  {
   "cell_type": "code",
   "execution_count": 28,
   "metadata": {},
   "outputs": [
    {
     "name": "stdout",
     "output_type": "stream",
     "text": [
      "With an initial of 1000 USD from 2016-05-01 to 2017-04-30\n"
     ]
    }
   ],
   "source": [
    "print(\"With an initial of %s USD from %s to %s\" % (initial_amount, start_date, end_date))"
   ]
  },
  {
   "cell_type": "markdown",
   "metadata": {},
   "source": [
    "## Buy and forget"
   ]
  },
  {
   "cell_type": "markdown",
   "metadata": {},
   "source": [
    "### Buy first 5 coins evenly"
   ]
  },
  {
   "cell_type": "code",
   "execution_count": 29,
   "metadata": {},
   "outputs": [
    {
     "name": "stdout",
     "output_type": "stream",
     "text": [
      "2016-05-01: 1000 USD\n",
      "2017-04-30: 7353.04 USD\n",
      "----------\n",
      "7.4X\n"
     ]
    }
   ],
   "source": [
    "symbols_to_buy = market.get_positions_range(start_date, 1, 5)\n",
    "coins = market.buy_coins(start_date, list(symbols_to_buy), initial_amount, strategy=\"even\")\n",
    "final_amount = market.sell_coins(end_date, coins)\n",
    "market.print_returns(initial_amount, start_date, final_amount, end_date)"
   ]
  },
  {
   "cell_type": "markdown",
   "metadata": {},
   "source": [
    "### Buy 50% Bitcoin 50% Top(2-5)"
   ]
  },
  {
   "cell_type": "code",
   "execution_count": 30,
   "metadata": {},
   "outputs": [
    {
     "name": "stdout",
     "output_type": "stream",
     "text": [
      "2016-05-01: 1000 USD\n",
      "2017-04-30: 5694.91 USD\n",
      "----------\n",
      "5.7X\n"
     ]
    }
   ],
   "source": [
    "symbols_to_buy = list(market.get_positions_range(start_date, 1, 1))\n",
    "coins = market.buy_coins(start_date, symbols_to_buy, initial_amount/2, strategy=\"even\")\n",
    "symbols_to_buy = list(market.get_positions_range(start_date, 2, 5))\n",
    "top_coins = market.buy_coins(start_date, symbols_to_buy, initial_amount/2, strategy=\"even\")\n",
    "coins = {**coins, **top_coins}\n",
    "final_amount = market.sell_coins(end_date, coins)\n",
    "market.print_returns(initial_amount, start_date, final_amount, end_date)"
   ]
  },
  {
   "cell_type": "markdown",
   "metadata": {},
   "source": [
    "### Buy Top 5 by market cap"
   ]
  },
  {
   "cell_type": "code",
   "execution_count": 31,
   "metadata": {},
   "outputs": [
    {
     "name": "stdout",
     "output_type": "stream",
     "text": [
      "2016-05-01: 1000 USD\n",
      "2017-04-30: 3582.94 USD\n",
      "----------\n",
      "3.6X\n"
     ]
    }
   ],
   "source": [
    "symbols_to_buy = market.get_positions_range(start_date, 1, 5)\n",
    "coins = market.buy_coins(start_date, list(symbols_to_buy), initial_amount, strategy=\"market_cap\")\n",
    "final_amount = market.sell_coins(end_date, coins)\n",
    "market.print_returns(initial_amount, start_date, final_amount, end_date)"
   ]
  },
  {
   "cell_type": "markdown",
   "metadata": {
    "collapsed": true
   },
   "source": [
    "## Balancing every X week"
   ]
  },
  {
   "cell_type": "markdown",
   "metadata": {
    "collapsed": true
   },
   "source": [
    "### Buy first 5 coins evenly"
   ]
  },
  {
   "cell_type": "code",
   "execution_count": 32,
   "metadata": {},
   "outputs": [
    {
     "name": "stdout",
     "output_type": "stream",
     "text": [
      "Balancing every 1 weeks\n",
      "\n",
      "2016-05-01: 1000 USD\n",
      "2017-04-30: 5226.62 USD\n",
      "----------\n",
      "5.2X\n",
      "Balancing every 2 weeks\n",
      "\n",
      "2016-05-01: 1000 USD\n",
      "2017-04-30: 4073.69 USD\n",
      "----------\n",
      "4.1X\n",
      "Balancing every 3 weeks\n",
      "\n",
      "2016-05-01: 1000 USD\n",
      "2017-04-30: 5916.11 USD\n",
      "----------\n",
      "5.9X\n",
      "Balancing every 4 weeks\n",
      "\n",
      "2016-05-01: 1000 USD\n",
      "2017-04-30: 3284.55 USD\n",
      "----------\n",
      "3.3X\n",
      "Balancing every 8 weeks\n",
      "\n",
      "2016-05-01: 1000 USD\n",
      "2017-04-30: 4111.26 USD\n",
      "----------\n",
      "4.1X\n",
      "Balancing every 12 weeks\n",
      "\n",
      "2016-05-01: 1000 USD\n",
      "2017-04-30: 3420.77 USD\n",
      "----------\n",
      "3.4X\n"
     ]
    }
   ],
   "source": [
    "coins = {}\n",
    "for x_week in [1,2,3,4,8,12]:\n",
    "    amount_to_buy = initial_amount\n",
    "    for date in all_dates[-weeks_ago::x_week]:\n",
    "        if date != start_date:\n",
    "            amount_to_buy = market.sell_coins(date, coins)\n",
    "        symbols_to_buy = market.get_positions_range(date, 1, 5)\n",
    "        coins = market.buy_coins(date, list(symbols_to_buy), amount_to_buy, strategy=\"even\")\n",
    "    print(\"Balancing every %s weeks\\n\" % x_week)\n",
    "    market.print_returns(initial_amount, start_date, amount_to_buy, end_date)"
   ]
  },
  {
   "cell_type": "markdown",
   "metadata": {},
   "source": [
    "### Buy 50% Bitcoin 50% Top(2-5)"
   ]
  },
  {
   "cell_type": "code",
   "execution_count": 33,
   "metadata": {},
   "outputs": [
    {
     "name": "stdout",
     "output_type": "stream",
     "text": [
      "Balancing every 1 weeks\n",
      "\n",
      "2016-05-01: 1000 USD\n",
      "2017-04-30: 6286.38 USD\n",
      "----------\n",
      "6.3X\n",
      "Balancing every 2 weeks\n",
      "\n",
      "2016-05-01: 1000 USD\n",
      "2017-04-30: 5633.45 USD\n",
      "----------\n",
      "5.6X\n",
      "Balancing every 3 weeks\n",
      "\n",
      "2016-05-01: 1000 USD\n",
      "2017-04-30: 8144.44 USD\n",
      "----------\n",
      "8.1X\n",
      "Balancing every 4 weeks\n",
      "\n",
      "2016-05-01: 1000 USD\n",
      "2017-04-30: 5597.43 USD\n",
      "----------\n",
      "5.6X\n",
      "Balancing every 8 weeks\n",
      "\n",
      "2016-05-01: 1000 USD\n",
      "2017-04-30: 4914.27 USD\n",
      "----------\n",
      "4.9X\n",
      "Balancing every 12 weeks\n",
      "\n",
      "2016-05-01: 1000 USD\n",
      "2017-04-30: 4505.82 USD\n",
      "----------\n",
      "4.5X\n"
     ]
    }
   ],
   "source": [
    "coins = {}\n",
    "for x_week in [1,2,3,4,8,12]:\n",
    "    for date in all_dates[-weeks_ago::x_week]:\n",
    "        amount_to_buy = initial_amount\n",
    "        if date != start_date:\n",
    "            amount_to_buy = market.sell_coins(date, coins)\n",
    "        symbols_to_buy = list(market.get_positions_range(start_date, 1, 1))\n",
    "        coins = market.buy_coins(date, symbols_to_buy, amount_to_buy/2, strategy=\"even\")\n",
    "        symbols_to_buy = list(market.get_positions_range(start_date, 2, 5))\n",
    "        top_coins = market.buy_coins(date, symbols_to_buy, amount_to_buy/2, strategy=\"even\")\n",
    "        coins = {**coins, **top_coins}\n",
    "    print(\"Balancing every %s weeks\\n\" % x_week)\n",
    "    market.print_returns(initial_amount, start_date, amount_to_buy, end_date)"
   ]
  },
  {
   "cell_type": "markdown",
   "metadata": {},
   "source": [
    "### Buy Top 5 by market cap"
   ]
  },
  {
   "cell_type": "code",
   "execution_count": 34,
   "metadata": {},
   "outputs": [
    {
     "name": "stdout",
     "output_type": "stream",
     "text": [
      "Balancing every 1 weeks\n",
      "\n",
      "2016-05-01: 1000 USD\n",
      "2017-04-30: 3625.58 USD\n",
      "----------\n",
      "3.6X\n",
      "Balancing every 2 weeks\n",
      "\n",
      "2016-05-01: 1000 USD\n",
      "2017-04-30: 3107.88 USD\n",
      "----------\n",
      "3.1X\n",
      "Balancing every 3 weeks\n",
      "\n",
      "2016-05-01: 1000 USD\n",
      "2017-04-30: 3623.54 USD\n",
      "----------\n",
      "3.6X\n",
      "Balancing every 4 weeks\n",
      "\n",
      "2016-05-01: 1000 USD\n",
      "2017-04-30: 2955.49 USD\n",
      "----------\n",
      "3.0X\n",
      "Balancing every 8 weeks\n",
      "\n",
      "2016-05-01: 1000 USD\n",
      "2017-04-30: 2954.96 USD\n",
      "----------\n",
      "3.0X\n",
      "Balancing every 12 weeks\n",
      "\n",
      "2016-05-01: 1000 USD\n",
      "2017-04-30: 2951.77 USD\n",
      "----------\n",
      "3.0X\n"
     ]
    }
   ],
   "source": [
    "coins = {}\n",
    "for x_week in [1,2,3,4,8,12]:\n",
    "    for date in all_dates[-weeks_ago::x_week]:\n",
    "        amount_to_buy = initial_amount\n",
    "        if date != start_date:\n",
    "            amount_to_buy = market.sell_coins(date, coins)\n",
    "        symbols_to_buy = market.get_positions_range(start_date, 1, 5)\n",
    "        coins = market.buy_coins(date, list(symbols_to_buy), amount_to_buy, strategy=\"market_cap\")\n",
    "        amount_to_buy = market.sell_coins(date, coins)\n",
    "    print(\"Balancing every %s weeks\\n\" % x_week)\n",
    "    market.print_returns(initial_amount, start_date, amount_to_buy, end_date)"
   ]
  },
  {
   "cell_type": "markdown",
   "metadata": {},
   "source": [
    "## Buy 50% bitcoin 25% Top2-5 marketcap 25% top2-10 evenly"
   ]
  },
  {
   "cell_type": "code",
   "execution_count": 35,
   "metadata": {},
   "outputs": [
    {
     "name": "stdout",
     "output_type": "stream",
     "text": [
      "Balancing every 1 weeks\n",
      "\n",
      "2016-05-01: 1000 USD\n",
      "2017-04-30: 5086.73 USD\n",
      "----------\n",
      "5.1X\n",
      "Balancing every 2 weeks\n",
      "\n",
      "2016-05-01: 1000 USD\n",
      "2017-04-30: 4085.51 USD\n",
      "----------\n",
      "4.1X\n",
      "Balancing every 3 weeks\n",
      "\n",
      "2016-05-01: 1000 USD\n",
      "2017-04-30: 5372.14 USD\n",
      "----------\n",
      "5.4X\n",
      "Balancing every 4 weeks\n",
      "\n",
      "2016-05-01: 1000 USD\n",
      "2017-04-30: 3364.66 USD\n",
      "----------\n",
      "3.4X\n",
      "Balancing every 8 weeks\n",
      "\n",
      "2016-05-01: 1000 USD\n",
      "2017-04-30: 4192.79 USD\n",
      "----------\n",
      "4.2X\n",
      "Balancing every 12 weeks\n",
      "\n",
      "2016-05-01: 1000 USD\n",
      "2017-04-30: 3787.51 USD\n",
      "----------\n",
      "3.8X\n"
     ]
    }
   ],
   "source": [
    "coins = {}\n",
    "for x_week in [1,2,3,4,8,12]:\n",
    "    for date in all_dates[-weeks_ago::x_week]:\n",
    "        amount_to_buy = initial_amount\n",
    "        if date != start_date:\n",
    "            amount_to_buy = market.sell_coins(date, coins)\n",
    "        symbols_to_buy = list(market.get_positions_range(date, 1, 1))\n",
    "        coins = market.buy_coins(date, symbols_to_buy, amount_to_buy/2, strategy=\"even\")\n",
    "        \n",
    "        symbols_to_buy = list(market.get_positions_range(date, 2, 5))\n",
    "        top_2_5_coins = market.buy_coins(date, symbols_to_buy, (amount_to_buy/2)/2, strategy=\"market_cap\")\n",
    "        \n",
    "        symbols_to_buy = list(market.get_positions_range(date, 2, 10))\n",
    "        top_2_10_coins = market.buy_coins(date, symbols_to_buy, (amount_to_buy/2)/2, strategy=\"even\")\n",
    "        \n",
    "        coins_keys = set(list(coins.keys()) + list(top_2_5_coins.keys()) + list(top_2_10_coins.keys()))\n",
    "        new_coins = {}\n",
    "        for coin_key in coins_keys:\n",
    "            new_coins[coin_key] = coins.get(coin_key, 0) + top_2_5_coins.get(coin_key, 0) + top_2_10_coins.get(coin_key, 0)\n",
    "        coins = new_coins\n",
    "    print(\"Balancing every %s weeks\\n\" % x_week)\n",
    "    market.print_returns(initial_amount, start_date, amount_to_buy, end_date)"
   ]
  },
  {
   "cell_type": "code",
   "execution_count": null,
   "metadata": {
    "collapsed": true
   },
   "outputs": [],
   "source": []
  }
 ],
 "metadata": {
  "kernelspec": {
   "display_name": "Python 3",
   "language": "python",
   "name": "python3"
  },
  "language_info": {
   "codemirror_mode": {
    "name": "ipython",
    "version": 3
   },
   "file_extension": ".py",
   "mimetype": "text/x-python",
   "name": "python",
   "nbconvert_exporter": "python",
   "pygments_lexer": "ipython3",
   "version": "3.6.0"
  }
 },
 "nbformat": 4,
 "nbformat_minor": 2
}
