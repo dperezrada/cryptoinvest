{
 "cells": [
  {
   "cell_type": "code",
   "execution_count": 2,
   "metadata": {
    "collapsed": true
   },
   "outputs": [],
   "source": [
    "import pandas as pd\n",
    "import gzip\n",
    "import json\n",
    "import re\n",
    "import datetime\n",
    "import numpy as np"
   ]
  },
  {
   "cell_type": "code",
   "execution_count": 3,
   "metadata": {
    "collapsed": true
   },
   "outputs": [],
   "source": [
    "def get_data_from_date(specific_date):\n",
    "    return all_data[(all_data[\"Date\"] == end_date)]"
   ]
  },
  {
   "cell_type": "code",
   "execution_count": 4,
   "metadata": {
    "collapsed": true
   },
   "outputs": [],
   "source": [
    "class Coinmarketcap(object):\n",
    "    @staticmethod\n",
    "    def load_data(source_datapath):\n",
    "        all_data = pd.read_csv(source_datapath, sep='\\t', header=0, encoding=\"utf-8\", dtype={'Market Cap': np.float64, 'Total Market Cap': np.float64})\n",
    "        all_data[\"Market Cap Share\"] = all_data[\"Market Cap\"]/all_data[\"Total Market Cap\"]\n",
    "        return all_data\n",
    "\n",
    "    def __init__(self, source_datapath):\n",
    "        self.data = self.load_data(source_datapath)\n",
    "    \n",
    "    def get_coin_price(self, date, coin_symbol):\n",
    "        try:\n",
    "            return float(self.data[(self.data[\"Date\"] == date) & (self.data[\"Symbol\"] == coin_symbol)][\"Price\"].values[0])\n",
    "        except:\n",
    "            print(\"ERROR: price not found for coin %s (%s)\" % (symbol, date))\n",
    "            return 0\n",
    "\n",
    "    def coins_to_usd(self, date, coins):\n",
    "        amount_usd = 0\n",
    "        for coin_symbol, amount in coins.items():\n",
    "            coin_usd = self.get_coin_price(date, symbol)\n",
    "            amount_usd += amount * coin_usd\n",
    "        return amount_usd\n",
    "    \n",
    "    def buy_coin(self, date, symbol, amount_usd):\n",
    "        return amount_usd/self.get_coin_price(date, symbol)\n",
    "    \n",
    "    def buy_coins(self, date, symbols, amount_usd, strategy=\"even\"):\n",
    "        symbols_length = len(symbols)\n",
    "        coins = {}\n",
    "        if strategy == \"market_cap\":\n",
    "            coins_market_cap = {}\n",
    "            total_market_cap = 0\n",
    "            for coin_symbol in symbols:\n",
    "                coins_market_cap[coin_symbol] = self.get_coin_market_cap(date, coin_symbol)\n",
    "                total_market_cap += coins_market_cap[coin_symbol]\n",
    "        for coin_symbol in symbols:\n",
    "            coin_amount_usd = 0\n",
    "            if strategy == \"even\":\n",
    "                coin_amount_usd = (amount_usd/symbols_length)\n",
    "            elif strategy == \"market_cap\":\n",
    "                coin_amount_usd = (amount_usd*(coins_market_cap[coin_symbol]/total_market_cap))\n",
    "            coins[coin_symbol] = self.buy_coin(date, coin_symbol, coin_amount_usd)\n",
    "        return coins\n",
    "    \n",
    "    def sell_coins(self, date, coins):\n",
    "        amount_usd = 0\n",
    "        for coin_symbol, coin_amount in coins.items():\n",
    "            coin_price = self.get_coin_price(date, coin_symbol)\n",
    "            amount_usd += coin_price*coin_amount\n",
    "        return amount_usd\n",
    "    \n",
    "    def get_coin_market_cap(self, date, coin_symbol):\n",
    "        return float(self.data[(self.data[\"Date\"] == date) & (self.data[\"Symbol\"] == coin_symbol)][\"Market Cap\"].values[0])\n",
    "            \n",
    "    def get_positions_range(self, date, first_position, last_position):\n",
    "        coins_data = self.data[(self.data[\"Date\"] == end_date) & (self.data[\"Pos\"] <= last_position) & (self.data[\"Pos\"] >= first_position)]\n",
    "        for index, _ in coins_data[\"Symbol\"].iteritems():\n",
    "            yield coins_data[\"Symbol\"][index]\n",
    "    \n",
    "    def dates(self):\n",
    "        return sorted(self.data.Date.unique())\n",
    "    \n",
    "    def print_returns(self, initial_amount, initial_date, final_amount, final_date):\n",
    "        print(\"%s: %s USD\" % (initial_date, round(initial_amount, 2)))\n",
    "        print(\"%s: %s USD\" % (end_date, round(final_amount, 2)))\n",
    "        print(\"----------\")\n",
    "        print(\"%sX\" % round(final_amount/initial_amount, 1))\n",
    "        "
   ]
  },
  {
   "cell_type": "code",
   "execution_count": 5,
   "metadata": {
    "collapsed": true
   },
   "outputs": [],
   "source": [
    "class InvestStrategies(object):\n",
    "    def __init__(self, market):\n",
    "        self.market = market"
   ]
  },
  {
   "cell_type": "markdown",
   "metadata": {},
   "source": [
    "# Initialize"
   ]
  },
  {
   "cell_type": "code",
   "execution_count": 6,
   "metadata": {
    "collapsed": true
   },
   "outputs": [],
   "source": [
    "market = Coinmarketcap(\"data/coinmarketcap_formatted.tsv\")\n",
    "all_dates = market.dates()\n",
    "weeks_ago = 54\n",
    "initial_amount = 1000\n",
    "start_date = all_dates[-weeks_ago]\n",
    "end_date = all_dates[-1]"
   ]
  },
  {
   "cell_type": "markdown",
   "metadata": {},
   "source": [
    "# Strategies"
   ]
  },
  {
   "cell_type": "code",
   "execution_count": 7,
   "metadata": {},
   "outputs": [
    {
     "name": "stdout",
     "output_type": "stream",
     "text": [
      "With an initial of 1000 USD from 2016-04-10 to 2017-04-23\n"
     ]
    }
   ],
   "source": [
    "print(\"With an initial of %s USD from %s to %s\" % (initial_amount, start_date, end_date))"
   ]
  },
  {
   "cell_type": "markdown",
   "metadata": {},
   "source": [
    "## Buy and forget"
   ]
  },
  {
   "cell_type": "markdown",
   "metadata": {},
   "source": [
    "### Buy first 5 coins evenly"
   ]
  },
  {
   "cell_type": "code",
   "execution_count": 8,
   "metadata": {},
   "outputs": [
    {
     "name": "stdout",
     "output_type": "stream",
     "text": [
      "2016-04-10: 1000 USD\n",
      "2017-04-23: 5703.29 USD\n",
      "----------\n",
      "5.7X\n"
     ]
    }
   ],
   "source": [
    "symbols_to_buy = market.get_positions_range(start_date, 1, 5)\n",
    "coins = market.buy_coins(start_date, list(symbols_to_buy), initial_amount, strategy=\"even\")\n",
    "final_amount = market.sell_coins(end_date, coins)\n",
    "market.print_returns(initial_amount, start_date, final_amount, end_date)"
   ]
  },
  {
   "cell_type": "markdown",
   "metadata": {},
   "source": [
    "### Buy 50% Bitcoin 50% Top(2-5)"
   ]
  },
  {
   "cell_type": "code",
   "execution_count": 9,
   "metadata": {},
   "outputs": [
    {
     "name": "stdout",
     "output_type": "stream",
     "text": [
      "2016-04-10: 1000 USD\n",
      "2017-04-23: 4657.87 USD\n",
      "----------\n",
      "4.7X\n"
     ]
    }
   ],
   "source": [
    "symbols_to_buy = list(market.get_positions_range(start_date, 1, 1))\n",
    "coins = market.buy_coins(start_date, symbols_to_buy, initial_amount/2, strategy=\"even\")\n",
    "symbols_to_buy = list(market.get_positions_range(start_date, 2, 5))\n",
    "top_coins = market.buy_coins(start_date, symbols_to_buy, initial_amount/2, strategy=\"even\")\n",
    "coins = {**coins, **top_coins}\n",
    "final_amount = market.sell_coins(end_date, coins)\n",
    "market.print_returns(initial_amount, start_date, final_amount, end_date)"
   ]
  },
  {
   "cell_type": "markdown",
   "metadata": {},
   "source": [
    "### Buy Top 5 by market cap"
   ]
  },
  {
   "cell_type": "code",
   "execution_count": 10,
   "metadata": {},
   "outputs": [
    {
     "name": "stdout",
     "output_type": "stream",
     "text": [
      "2016-04-10: 1000 USD\n",
      "2017-04-23: 3280.62 USD\n",
      "----------\n",
      "3.3X\n"
     ]
    }
   ],
   "source": [
    "symbols_to_buy = market.get_positions_range(start_date, 1, 5)\n",
    "coins = market.buy_coins(start_date, list(symbols_to_buy), initial_amount, strategy=\"market_cap\")\n",
    "final_amount = market.sell_coins(end_date, coins)\n",
    "market.print_returns(initial_amount, start_date, final_amount, end_date)"
   ]
  },
  {
   "cell_type": "markdown",
   "metadata": {
    "collapsed": true
   },
   "source": [
    "## Balancing every X week"
   ]
  },
  {
   "cell_type": "markdown",
   "metadata": {
    "collapsed": true
   },
   "source": [
    "### Buy first 5 coins evenly"
   ]
  },
  {
   "cell_type": "code",
   "execution_count": 14,
   "metadata": {},
   "outputs": [
    {
     "name": "stdout",
     "output_type": "stream",
     "text": [
      "Balancing every 1 weeks\n",
      "\n",
      "2016-04-10: 1000 USD\n",
      "2017-04-23: 7308.92 USD\n",
      "----------\n",
      "7.3X\n",
      "Balancing every 4 weeks\n",
      "\n",
      "2016-04-10: 1000 USD\n",
      "2017-04-23: 9021.08 USD\n",
      "----------\n",
      "9.0X\n",
      "Balancing every 8 weeks\n",
      "\n",
      "2016-04-10: 1000 USD\n",
      "2017-04-23: 4516.01 USD\n",
      "----------\n",
      "4.5X\n",
      "Balancing every 12 weeks\n",
      "\n",
      "2016-04-10: 1000 USD\n",
      "2017-04-23: 5463.12 USD\n",
      "----------\n",
      "5.5X\n"
     ]
    }
   ],
   "source": [
    "coins = {}\n",
    "for x_week in [1,4,8,12]:\n",
    "    amount_to_buy = initial_amount\n",
    "    for date in all_dates[-weeks_ago::x_week]:\n",
    "        if date != start_date:\n",
    "            amount_to_buy = market.sell_coins(date, coins)\n",
    "        symbols_to_buy = market.get_positions_range(date, 1, 5)\n",
    "        coins = market.buy_coins(date, list(symbols_to_buy), amount_to_buy, strategy=\"even\")\n",
    "    print(\"Balancing every %s weeks\\n\" % x_week)\n",
    "    market.print_returns(initial_amount, start_date, amount_to_buy, end_date)"
   ]
  },
  {
   "cell_type": "markdown",
   "metadata": {},
   "source": [
    "### Buy 50% Bitcoin 50% Top(2-5)"
   ]
  },
  {
   "cell_type": "code",
   "execution_count": 15,
   "metadata": {},
   "outputs": [
    {
     "name": "stdout",
     "output_type": "stream",
     "text": [
      "Balancing every 1 weeks\n",
      "\n",
      "2016-04-10: 1000 USD\n",
      "2017-04-23: 5451.19 USD\n",
      "----------\n",
      "5.5X\n",
      "Balancing every 4 weeks\n",
      "\n",
      "2016-04-10: 1000 USD\n",
      "2017-04-23: 6660.81 USD\n",
      "----------\n",
      "6.7X\n",
      "Balancing every 8 weeks\n",
      "\n",
      "2016-04-10: 1000 USD\n",
      "2017-04-23: 3955.26 USD\n",
      "----------\n",
      "4.0X\n",
      "Balancing every 12 weeks\n",
      "\n",
      "2016-04-10: 1000 USD\n",
      "2017-04-23: 4815.18 USD\n",
      "----------\n",
      "4.8X\n"
     ]
    }
   ],
   "source": [
    "coins = {}\n",
    "for x_week in [1,4,8,12]:\n",
    "    for date in all_dates[-weeks_ago::x_week]:\n",
    "        amount_to_buy = initial_amount\n",
    "        if date != start_date:\n",
    "            amount_to_buy = market.sell_coins(date, coins)\n",
    "        symbols_to_buy = list(market.get_positions_range(start_date, 1, 1))\n",
    "        coins = market.buy_coins(date, symbols_to_buy, amount_to_buy/2, strategy=\"even\")\n",
    "        symbols_to_buy = list(market.get_positions_range(start_date, 2, 5))\n",
    "        top_coins = market.buy_coins(date, symbols_to_buy, amount_to_buy/2, strategy=\"even\")\n",
    "        coins = {**coins, **top_coins}\n",
    "    print(\"Balancing every %s weeks\\n\" % x_week)\n",
    "    market.print_returns(initial_amount, start_date, amount_to_buy, end_date)"
   ]
  },
  {
   "cell_type": "markdown",
   "metadata": {},
   "source": [
    "### Buy Top 5 by market cap"
   ]
  },
  {
   "cell_type": "code",
   "execution_count": 16,
   "metadata": {},
   "outputs": [
    {
     "name": "stdout",
     "output_type": "stream",
     "text": [
      "Balancing every 1 weeks\n",
      "\n",
      "2016-04-10: 1000 USD\n",
      "2017-04-23: 3308.3 USD\n",
      "----------\n",
      "3.3X\n",
      "Balancing every 4 weeks\n",
      "\n",
      "2016-04-10: 1000 USD\n",
      "2017-04-23: 3214.02 USD\n",
      "----------\n",
      "3.2X\n",
      "Balancing every 8 weeks\n",
      "\n",
      "2016-04-10: 1000 USD\n",
      "2017-04-23: 2616.16 USD\n",
      "----------\n",
      "2.6X\n",
      "Balancing every 12 weeks\n",
      "\n",
      "2016-04-10: 1000 USD\n",
      "2017-04-23: 2615.46 USD\n",
      "----------\n",
      "2.6X\n"
     ]
    }
   ],
   "source": [
    "coins = {}\n",
    "for x_week in [1,4,8,12]:\n",
    "    for date in all_dates[-weeks_ago::x_week]:\n",
    "        amount_to_buy = initial_amount\n",
    "        if date != start_date:\n",
    "            amount_to_buy = market.sell_coins(date, coins)\n",
    "        symbols_to_buy = market.get_positions_range(start_date, 1, 5)\n",
    "        coins = market.buy_coins(date, list(symbols_to_buy), amount_to_buy, strategy=\"market_cap\")\n",
    "        amount_to_buy = market.sell_coins(date, coins)\n",
    "    print(\"Balancing every %s weeks\\n\" % x_week)\n",
    "    market.print_returns(initial_amount, start_date, amount_to_buy, end_date)"
   ]
  },
  {
   "cell_type": "code",
   "execution_count": null,
   "metadata": {
    "collapsed": true
   },
   "outputs": [],
   "source": []
  }
 ],
 "metadata": {
  "kernelspec": {
   "display_name": "Python 3",
   "language": "python",
   "name": "python3"
  },
  "language_info": {
   "codemirror_mode": {
    "name": "ipython",
    "version": 3
   },
   "file_extension": ".py",
   "mimetype": "text/x-python",
   "name": "python",
   "nbconvert_exporter": "python",
   "pygments_lexer": "ipython3",
   "version": "3.6.0"
  }
 },
 "nbformat": 4,
 "nbformat_minor": 2
}
