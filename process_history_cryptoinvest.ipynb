{
 "cells": [
  {
   "cell_type": "code",
   "execution_count": 17,
   "metadata": {
    "collapsed": true
   },
   "outputs": [],
   "source": [
    "import pandas as pd\n",
    "import gzip\n",
    "import json\n",
    "import re\n",
    "import datetime\n",
    "from math import floor\n",
    "import numpy as np\n",
    "from random import randint\n",
    "from collections import Counter"
   ]
  },
  {
   "cell_type": "code",
   "execution_count": 18,
   "metadata": {
    "collapsed": true
   },
   "outputs": [],
   "source": [
    "from coinmarketcap import Coinmarketcap\n",
    "from invest_strategies import InvestStrategies"
   ]
  },
  {
   "cell_type": "markdown",
   "metadata": {},
   "source": [
    "# Initialize"
   ]
  },
  {
   "cell_type": "code",
   "execution_count": 19,
   "metadata": {
    "collapsed": true
   },
   "outputs": [],
   "source": [
    "market = Coinmarketcap(\"data/coinmarketcap_formatted.tsv\")"
   ]
  },
  {
   "cell_type": "markdown",
   "metadata": {},
   "source": [
    "# Strategies"
   ]
  },
  {
   "cell_type": "markdown",
   "metadata": {},
   "source": [
    "## Top 1 coin"
   ]
  },
  {
   "cell_type": "code",
   "execution_count": 20,
   "metadata": {
    "collapsed": true
   },
   "outputs": [],
   "source": [
    "class OnlyBitcoin(InvestStrategies):\n",
    "    def buy(self, amount, date):\n",
    "        return self.buy_top_x(date, amount, top_x_first_pos=1, top_x_last_pos=1, strategy=\"even\")\n",
    "\n",
    "    def name(self):\n",
    "        return \"OnlyBitcoin\"\n"
   ]
  },
  {
   "cell_type": "markdown",
   "metadata": {},
   "source": [
    "## Top 5 in same proportion"
   ]
  },
  {
   "cell_type": "code",
   "execution_count": 21,
   "metadata": {
    "collapsed": true
   },
   "outputs": [],
   "source": [
    "class Top5Evenly(InvestStrategies):\n",
    "    def buy(self, amount, date):\n",
    "        return self.buy_top_x(date, amount, top_x_first_pos=1, top_x_last_pos=5, strategy=\"even\")\n",
    "\n",
    "    def name(self):\n",
    "        return \"Top 5 in same proportion\"\n"
   ]
  },
  {
   "cell_type": "markdown",
   "metadata": {},
   "source": [
    "## Top 5 by market cap"
   ]
  },
  {
   "cell_type": "code",
   "execution_count": 22,
   "metadata": {
    "collapsed": true
   },
   "outputs": [],
   "source": [
    "class Top5MarketCap(InvestStrategies):\n",
    "    def buy(self, amount, date):\n",
    "        return self.buy_top_x(date, amount, top_x_first_pos=1, top_x_last_pos=5, strategy=\"market_cap\")\n",
    "\n",
    "    def name(self):\n",
    "        return \"Top 5 by market cap\"\n"
   ]
  },
  {
   "cell_type": "markdown",
   "metadata": {},
   "source": [
    "## Top1 50%, Top2-5 50% by marketcap"
   ]
  },
  {
   "cell_type": "code",
   "execution_count": 23,
   "metadata": {
    "collapsed": true
   },
   "outputs": [],
   "source": [
    "class Top1_50_Top2_5_50(InvestStrategies):\n",
    "    def buy(self, amount, date):\n",
    "        top1_coins = self.buy_top_x(date, 1.0*amount/2, top_x_first_pos=1, top_x_last_pos=1, strategy=\"even\")\n",
    "        top2_5_coins = self.buy_top_x(date, 1.0*amount/2, top_x_first_pos=2, top_x_last_pos=5, strategy=\"even\")\n",
    "        coins = {**top1_coins, **top2_5_coins}\n",
    "        return coins\n",
    "\n",
    "    def name(self):\n",
    "        return \"Top1 50%, Top2-5 50% by marketcap\"\n"
   ]
  },
  {
   "cell_type": "markdown",
   "metadata": {},
   "source": [
    "## Top1 40%, TOP2 30%, Top3-5 20% evenly, Top3-10 10% evenly"
   ]
  },
  {
   "cell_type": "code",
   "execution_count": 24,
   "metadata": {
    "collapsed": true
   },
   "outputs": [],
   "source": [
    "class TopX(InvestStrategies):\n",
    "    def buy(self, amount, date):\n",
    "        coins_group = []\n",
    "        coins_group.append(\n",
    "            self.buy_top_x(date, 0.4*amount, top_x_first_pos=1, top_x_last_pos=1, strategy=\"even\")\n",
    "        )\n",
    "        coins_group.append(\n",
    "            self.buy_top_x(date, 0.3*amount, top_x_first_pos=2, top_x_last_pos=2, strategy=\"even\")\n",
    "        )\n",
    "        coins_group.append(\n",
    "            self.buy_top_x(date, 0.2*amount, top_x_first_pos=3, top_x_last_pos=5, strategy=\"even\")\n",
    "        )\n",
    "        coins_group.append(\n",
    "            self.buy_top_x(date, 0.1*amount, top_x_first_pos=3, top_x_last_pos=10, strategy=\"even\")\n",
    "        )\n",
    "        coins = self.add_coins_list(coins_group)\n",
    "        return coins\n",
    "\n",
    "    def name(self):\n",
    "        return \"Top1 40%, TOP2 30%, Top3-5 20% evenly, Top3-10 10% evenly\"\n"
   ]
  },
  {
   "cell_type": "markdown",
   "metadata": {},
   "source": [
    "## Top1 35%, TOP2 25%, Top3-5 20% evenly, Top3-10 20% evenly"
   ]
  },
  {
   "cell_type": "code",
   "execution_count": 25,
   "metadata": {
    "collapsed": true
   },
   "outputs": [],
   "source": [
    "class TopY(InvestStrategies):\n",
    "    def buy(self, amount, date):\n",
    "        coins_group = []\n",
    "        coins_group.append(\n",
    "            self.buy_top_x(date, 0.35*amount, top_x_first_pos=1, top_x_last_pos=1, strategy=\"even\")\n",
    "        )\n",
    "        coins_group.append(\n",
    "            self.buy_top_x(date, 0.25*amount, top_x_first_pos=2, top_x_last_pos=2, strategy=\"even\")\n",
    "        )\n",
    "        coins_group.append(\n",
    "            self.buy_top_x(date, 0.2*amount, top_x_first_pos=3, top_x_last_pos=5, strategy=\"even\")\n",
    "        )\n",
    "        coins_group.append(\n",
    "            self.buy_top_x(date, 0.2*amount, top_x_first_pos=3, top_x_last_pos=10, strategy=\"even\")\n",
    "        )\n",
    "        coins = self.add_coins_list(coins_group)\n",
    "        return coins\n",
    "\n",
    "    def name(self):\n",
    "        return \"Top1 35%, TOP2 25%, Top3-5 20% evenly, Top3-10 20% evenly\"\n"
   ]
  },
  {
   "cell_type": "markdown",
   "metadata": {},
   "source": [
    "# Configure"
   ]
  },
  {
   "cell_type": "markdown",
   "metadata": {},
   "source": [
    "We will implement several strategies, and run them over several dates, from not before 2015-09-01 and not after 2017-04-30. We will run 1000 iterations with a minimun legth of 16 weeks (from first investment and last)"
   ]
  },
  {
   "cell_type": "code",
   "execution_count": 30,
   "metadata": {
    "collapsed": true
   },
   "outputs": [],
   "source": [
    "strategy_options = {\n",
    "    'min_week_duration': 4,\n",
    "    'max_week_duration': 4,\n",
    "    'min_start_date': '2015-09-01'\n",
    "}"
   ]
  },
  {
   "cell_type": "markdown",
   "metadata": {},
   "source": [
    "# Run"
   ]
  },
  {
   "cell_type": "code",
   "execution_count": 31,
   "metadata": {},
   "outputs": [
    {
     "name": "stdout",
     "output_type": "stream",
     "text": [
      "Test parameters {\n",
      "  \"min_week_duration\": 4,\n",
      "  \"max_week_duration\": 4,\n",
      "  \"min_start_date\": \"2015-09-01\"\n",
      "}\n",
      "iterations: 84\n",
      "\n",
      "\n",
      "\n",
      "\n",
      "OnlyBitcoin:\n",
      "\n",
      "Min return(2017-03-05 to 2017-04-02) 4 weeks: 0.77x.\n",
      "Max return(2016-05-29 to 2016-06-26) 4 weeks: 1.44x.\n",
      "Mean return(2016-10-23 to 2016-11-20) 4 weeks: 1.06x.\n",
      "\n",
      "\n",
      "Top 5 in same proportion:\n",
      "\n",
      "Min return(2016-07-24 to 2016-08-28) 4 weeks: 0.77x.\n",
      "Max return(2017-04-16 to 2017-05-14) 4 weeks: 2.1x.\n",
      "Mean return(2016-07-03 to 2016-07-31) 4 weeks: 1.03x.\n",
      "\n",
      "\n",
      "Top 5 by market cap:\n",
      "\n",
      "Min return(2016-06-19 to 2016-07-17) 4 weeks: 0.87x.\n",
      "Max return(2017-04-16 to 2017-05-14) 4 weeks: 1.57x.\n",
      "Mean return(2015-12-06 to 2016-01-03) 4 weeks: 1.06x.\n",
      "\n",
      "\n",
      "Top1 50%, Top2-5 50% by marketcap:\n",
      "\n",
      "Min return(2016-07-24 to 2016-08-28) 4 weeks: 0.81x.\n",
      "Max return(2017-04-16 to 2017-05-14) 4 weeks: 1.79x.\n",
      "Mean return(2016-04-24 to 2016-05-22) 4 weeks: 1.04x.\n",
      "\n",
      "\n",
      "Top1 40%, TOP2 30%, Top3-5 20% evenly, Top3-10 10% evenly:\n",
      "\n",
      "Min return(2016-07-24 to 2016-08-28) 4 weeks: 0.83x.\n",
      "Max return(2017-04-16 to 2017-05-14) 4 weeks: 1.8x.\n",
      "Mean return(2016-12-04 to 2017-01-01) 4 weeks: 1.06x.\n",
      "\n",
      "\n",
      "Top1 35%, TOP2 25%, Top3-5 20% evenly, Top3-10 20% evenly:\n",
      "\n",
      "Min return(2016-07-24 to 2016-08-28) 4 weeks: 0.84x.\n",
      "Max return(2017-04-16 to 2017-05-14) 4 weeks: 1.85x.\n",
      "Mean return(2016-06-26 to 2016-07-24) 4 weeks: 1.06x.\n"
     ]
    }
   ],
   "source": [
    "print(\"Test parameters\", json.dumps(strategy_options, indent=2))\n",
    "iterations = None\n",
    "for class_ in [OnlyBitcoin, Top5Evenly, Top5MarketCap, Top1_50_Top2_5_50, TopX, TopY]:\n",
    "    inv = class_(market, strategy_options)\n",
    "    results = inv.run_strategy(1000, balance_x_weeks=1)\n",
    "    if iterations is None:\n",
    "        iterations = results['iterations']\n",
    "        print(\"iterations: %s\\n\\n\" % iterations)\n",
    "    inv.print_results(results)"
   ]
  },
  {
   "cell_type": "code",
   "execution_count": null,
   "metadata": {
    "collapsed": true
   },
   "outputs": [],
   "source": []
  },
  {
   "cell_type": "code",
   "execution_count": null,
   "metadata": {
    "collapsed": true
   },
   "outputs": [],
   "source": [
    "\n",
    "\n",
    "\n",
    "\n",
    "\n",
    "\n",
    "\n",
    "\n",
    "\n"
   ]
  },
  {
   "cell_type": "code",
   "execution_count": 27,
   "metadata": {},
   "outputs": [
    {
     "data": {
      "text/plain": [
       "''"
      ]
     },
     "execution_count": 27,
     "metadata": {},
     "output_type": "execute_result"
    }
   ],
   "source": [
    "\"\""
   ]
  },
  {
   "cell_type": "code",
   "execution_count": null,
   "metadata": {
    "collapsed": true
   },
   "outputs": [],
   "source": []
  },
  {
   "cell_type": "code",
   "execution_count": null,
   "metadata": {
    "collapsed": true
   },
   "outputs": [],
   "source": []
  }
 ],
 "metadata": {
  "kernelspec": {
   "display_name": "Python 3",
   "language": "python",
   "name": "python3"
  },
  "language_info": {
   "codemirror_mode": {
    "name": "ipython",
    "version": 3
   },
   "file_extension": ".py",
   "mimetype": "text/x-python",
   "name": "python",
   "nbconvert_exporter": "python",
   "pygments_lexer": "ipython3",
   "version": "3.6.0"
  }
 },
 "nbformat": 4,
 "nbformat_minor": 2
}
