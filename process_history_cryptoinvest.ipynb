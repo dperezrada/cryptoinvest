{
 "cells": [
  {
   "cell_type": "code",
   "execution_count": 26,
   "metadata": {
    "collapsed": true
   },
   "outputs": [],
   "source": [
    "import pandas as pd\n",
    "import gzip\n",
    "import json\n",
    "import re\n",
    "import datetime\n",
    "import numpy as np"
   ]
  },
  {
   "cell_type": "code",
   "execution_count": 27,
   "metadata": {
    "collapsed": true
   },
   "outputs": [],
   "source": [
    "def get_data_from_date(specific_date):\n",
    "    return all_data[(all_data[\"Date\"] == end_date)]"
   ]
  },
  {
   "cell_type": "code",
   "execution_count": 219,
   "metadata": {},
   "outputs": [],
   "source": [
    "class Coinmarketcap(object):\n",
    "    @staticmethod\n",
    "    def load_data(source_datapath):\n",
    "        all_data = pd.read_csv(source_datapath, sep='\\t', header=0, encoding=\"utf-8\", dtype={'Market Cap': np.float64, 'Total Market Cap': np.float64})\n",
    "        all_data[\"Market Cap Share\"] = all_data[\"Market Cap\"]/all_data[\"Total Market Cap\"]\n",
    "        return all_data\n",
    "\n",
    "    def __init__(self, source_datapath):\n",
    "        self.data = self.load_data(source_datapath)\n",
    "    \n",
    "    def get_coin_price(self, date, coin_symbol):\n",
    "        try:\n",
    "            return float(self.data[(self.data[\"Date\"] == date) & (self.data[\"Symbol\"] == coin_symbol)][\"Price\"].values[0])\n",
    "        except:\n",
    "            print(\"ERROR: price not found for coin %s (%s)\" % (symbol, date))\n",
    "            return 0\n",
    "\n",
    "    def coins_to_usd(self, date, coins):\n",
    "        amount_usd = 0\n",
    "        for coin_symbol, amount in coins.items():\n",
    "            coin_usd = self.get_coin_price(date, symbol)\n",
    "            amount_usd += amount * coin_usd\n",
    "        return amount_usd\n",
    "    \n",
    "    def buy_coin(self, date, symbol, amount_usd):\n",
    "        return amount_usd/self.get_coin_price(date, symbol)\n",
    "    \n",
    "    def buy_coins(self, date, symbols, amount_usd, strategy=\"even\"):\n",
    "        symbols_length = len(symbols)\n",
    "        coins = {}\n",
    "        if strategy == \"market_cap\":\n",
    "            coins_market_cap = {}\n",
    "            total_market_cap= 0\n",
    "            for coin_symbol in symbols:\n",
    "                coins_market_cap[coin_symbol] = self.get_coin_market_cap(date, coin_symbol)\n",
    "                total_market_cap += coins_market_cap[coin_symbol]\n",
    "        for coin_symbol in symbols:\n",
    "            coin_amount_usd = 0\n",
    "            if strategy == \"even\":\n",
    "                coin_amount_usd = (amount_usd/symbols_length)\n",
    "            elif strategy == \"market_cap\":\n",
    "                coin_amount_usd = (amount_usd*(coins_market_cap[coin_symbol]/total_market_cap))\n",
    "            coins[coin_symbol] = self.buy_coin(date, coin_symbol, coin_amount_usd)\n",
    "        return coins\n",
    "    \n",
    "    def sell_coins(self, date, coins):\n",
    "        amount_usd = 0\n",
    "        for coin_symbol, coin_amount in coins.items():\n",
    "            coin_price = self.get_coin_price(date, coin_symbol)\n",
    "            amount_usd += coin_price*coin_amount\n",
    "        return amount_usd\n",
    "    \n",
    "    def get_coin_market_cap(self, date, coin_symbol):\n",
    "        return float(self.data[(self.data[\"Date\"] == date) & (self.data[\"Symbol\"] == coin_symbol)][\"Market Cap\"].values[0])\n",
    "            \n",
    "    def get_positions_range(self, date, first_position, last_position):\n",
    "        coins_data = self.data[(self.data[\"Date\"] == end_date) & (date_data[\"Pos\"] <= last_position) & (date_data[\"Pos\"] >= first_position)]\n",
    "        for index, _ in coins_data[\"Symbol\"].iteritems():\n",
    "            yield coins_data[\"Symbol\"][index]\n",
    "    \n",
    "    def dates(self):\n",
    "        return sorted(self.data.Date.unique())\n",
    "    \n",
    "    def print_returns(self, initial_amount, initial_date, final_amount, final_date):\n",
    "        print(\"%s: %s USD\" % (initial_date, round(initial_amount, 2)))\n",
    "        print(\"%s: %s USD\" % (end_date, round(final_amount, 2)))\n",
    "        print(\"----------\")\n",
    "        print(\"%sX\" % round(final_amount/initial_amount, 1))\n",
    "        \n",
    "    \n",
    "        \n",
    "        "
   ]
  },
  {
   "cell_type": "markdown",
   "metadata": {},
   "source": [
    "# Initialize"
   ]
  },
  {
   "cell_type": "code",
   "execution_count": 220,
   "metadata": {},
   "outputs": [],
   "source": [
    "market = Coinmarketcap(\"data/coinmarketcap_formatted.tsv\")\n",
    "all_dates = market.dates()\n",
    "weeks_ago = 54\n",
    "initial_amount = 1000\n",
    "start_date = all_dates[-weeks_ago]\n",
    "end_date = all_dates[-1]"
   ]
  },
  {
   "cell_type": "markdown",
   "metadata": {},
   "source": [
    "# Strategies"
   ]
  },
  {
   "cell_type": "code",
   "execution_count": 221,
   "metadata": {},
   "outputs": [
    {
     "name": "stdout",
     "output_type": "stream",
     "text": [
      "With an initial of 1000 USD from 2016-04-10 to 2017-04-23\n"
     ]
    }
   ],
   "source": [
    "print(\"With an initial of %s USD from %s to %s\" % (initial_amount, start_date, end_date))"
   ]
  },
  {
   "cell_type": "markdown",
   "metadata": {},
   "source": [
    "## Buy first 5 coins evenly and forget"
   ]
  },
  {
   "cell_type": "code",
   "execution_count": 222,
   "metadata": {},
   "outputs": [
    {
     "name": "stdout",
     "output_type": "stream",
     "text": [
      "even\n",
      "even\n",
      "even\n",
      "even\n",
      "even\n",
      "2016-04-10: 1000 USD\n",
      "2017-04-23: 5703.29 USD\n",
      "----------\n",
      "5.7X\n"
     ]
    }
   ],
   "source": [
    "symbols_to_buy = market.get_positions_range(start_date, 1, 5)\n",
    "coins = market.buy_coins(start_date, list(symbols_to_buy), initial_amount, strategy=\"even\")\n",
    "final_amount = market.sell_coins(end_date, coins)\n",
    "market.print_returns(initial_amount, start_date, final_amount, end_date)"
   ]
  },
  {
   "cell_type": "markdown",
   "metadata": {},
   "source": [
    "## Buy 50% Bitcoin 50% Top(2-5)"
   ]
  },
  {
   "cell_type": "code",
   "execution_count": 223,
   "metadata": {},
   "outputs": [
    {
     "name": "stdout",
     "output_type": "stream",
     "text": [
      "even\n",
      "even\n",
      "even\n",
      "even\n",
      "even\n",
      "2016-04-10: 1000 USD\n",
      "2017-04-23: 4657.87 USD\n",
      "----------\n",
      "4.7X\n"
     ]
    }
   ],
   "source": [
    "symbols_to_buy = list(market.get_positions_range(start_date, 1, 1))\n",
    "coins = market.buy_coins(start_date, symbols_to_buy, initial_amount/2, strategy=\"even\")\n",
    "symbols_to_buy = list(market.get_positions_range(start_date, 2, 5))\n",
    "top_coins = market.buy_coins(start_date, symbols_to_buy, initial_amount/2, strategy=\"even\")\n",
    "coins = {**coins, **top_coins}\n",
    "final_amount = market.sell_coins(end_date, coins)\n",
    "market.print_returns(initial_amount, start_date, final_amount, end_date)"
   ]
  },
  {
   "cell_type": "markdown",
   "metadata": {},
   "source": [
    "## Buy Top 5 by market cap"
   ]
  },
  {
   "cell_type": "code",
   "execution_count": 224,
   "metadata": {},
   "outputs": [
    {
     "name": "stdout",
     "output_type": "stream",
     "text": [
      "market_cap\n",
      "market_cap\n",
      "market_cap\n",
      "market_cap\n",
      "market_cap\n",
      "{'BTC': 2.0334483991560117, 'ETH': 10.40862907924173, 'XRP': 4543.445351096338, 'LTC': 5.980036490714312, 'DASH': 0.8394024048606977}\n",
      "2016-04-10: 1000 USD\n",
      "2017-04-23: 3280.62 USD\n",
      "----------\n",
      "3.3X\n"
     ]
    }
   ],
   "source": [
    "symbols_to_buy = market.get_positions_range(start_date, 1, 5)\n",
    "coins = market.buy_coins(start_date, list(symbols_to_buy), initial_amount, strategy=\"market_cap\")\n",
    "print(coins)\n",
    "final_amount = market.sell_coins(end_date, coins)\n",
    "market.print_returns(initial_amount, start_date, final_amount, end_date)"
   ]
  },
  {
   "cell_type": "code",
   "execution_count": null,
   "metadata": {
    "collapsed": true
   },
   "outputs": [],
   "source": []
  },
  {
   "cell_type": "code",
   "execution_count": null,
   "metadata": {
    "collapsed": true
   },
   "outputs": [],
   "source": []
  },
  {
   "cell_type": "code",
   "execution_count": 4,
   "metadata": {
    "collapsed": true
   },
   "outputs": [],
   "source": [
    "def convert_coins_to_usd(date_data, coins):\n",
    "    amount_usd = 0\n",
    "    for coin_symbol, number_of_coins in coins.items():\n",
    "        try:\n",
    "            coin_usd = float(date_data[date_data[\"Symbol\"] == coin_symbol][\"Price\"].values[0])\n",
    "        except:\n",
    "            coin_usd = 0\n",
    "        amount_usd += number_of_coins * coin_usd\n",
    "    return amount_usd"
   ]
  },
  {
   "cell_type": "code",
   "execution_count": 5,
   "metadata": {
    "collapsed": true
   },
   "outputs": [],
   "source": [
    "def buy_coins(date_data, amount_usd, buy_x_first, skip_x_first=0):\n",
    "    max_pos = buy_x_first + skip_x_first\n",
    "    coins_to_buy_data = date_data[(date_data[\"Pos\"] <= max_pos) & (date_data[\"Pos\"] > skip_x_first)]\n",
    "    coins = {}\n",
    "    coins_usd = {}\n",
    "    for index, _ in coins_to_buy_data[\"Price\"].iteritems():\n",
    "        coin_usd = float(date_data[\"Price\"][index])\n",
    "        coin_symbol = date_data[\"Symbol\"][index]\n",
    "        normalize_market_cap_share = coins_to_buy_data[\"Market Cap Share\"][index]/coins_to_buy_data[\"Market Cap Share\"].sum().astype(np.float64)\n",
    "        total_of_coin = 1.0 * normalize_market_cap_share * amount_usd / coin_usd\n",
    "        coins[coin_symbol] = total_of_coin\n",
    "        coins_usd[coin_symbol] = total_of_coin * coin_usd\n",
    "    return coins, coins_usd\n",
    "\n",
    "def buy_coins_equaly(date_data, amount_usd, buy_x_first, skip_x_first=0):\n",
    "    max_pos = buy_x_first + skip_x_first\n",
    "    coins_to_buy_data = date_data[(date_data[\"Pos\"] <= max_pos) & (date_data[\"Pos\"] > skip_x_first)]\n",
    "    coins = {}\n",
    "    coins_usd = {}\n",
    "    for index, _ in coins_to_buy_data[\"Price\"].iteritems():\n",
    "        coin_usd = float(date_data[\"Price\"][index])\n",
    "        coin_symbol = date_data[\"Symbol\"][index]\n",
    "        total_of_coin = 1.0 * (amount_usd/buy_x_first) / coin_usd\n",
    "        coins[coin_symbol] = total_of_coin\n",
    "        coins_usd[coin_symbol] = total_of_coin * coin_usd\n",
    "    return coins, coins_usd\n",
    "\n",
    "def buy_coins_factor(date_data, amount_usd, buy_x_first, skip_x_first=0, factor=3):\n",
    "    mult = factor\n",
    "    step = (mult-1)/buy_x_first\n",
    "    max_pos = buy_x_first + skip_x_first\n",
    "    coins_to_buy_data = date_data[(date_data[\"Pos\"] <= max_pos) & (date_data[\"Pos\"] > skip_x_first)]\n",
    "    coins = {}\n",
    "    coins_usd = {}\n",
    "    new_total_market_cap = 0\n",
    "    curr_mult = 1\n",
    "    for index, _ in coins_to_buy_data[\"Price\"].iteritems():\n",
    "        new_total_market_cap += curr_mult*coins_to_buy_data[\"Market Cap\"][index]\n",
    "        curr_mult += step\n",
    "\n",
    "    curr_mult = 1\n",
    "    for index, _ in coins_to_buy_data[\"Price\"].iteritems():\n",
    "        coin_usd = float(date_data[\"Price\"][index])\n",
    "        coin_symbol = date_data[\"Symbol\"][index]\n",
    "        normalize_market_cap_share = curr_mult*coins_to_buy_data[\"Market Cap\"][index]/new_total_market_cap\n",
    "        total_of_coin = 1.0 * normalize_market_cap_share * amount_usd / coin_usd\n",
    "        coins[coin_symbol] = total_of_coin\n",
    "        coins_usd[coin_symbol] = total_of_coin * coin_usd\n",
    "        curr_mult += step\n",
    "    return coins, coins_usd\n",
    "    "
   ]
  },
  {
   "cell_type": "code",
   "execution_count": 6,
   "metadata": {
    "collapsed": true
   },
   "outputs": [],
   "source": [
    "def calculate_returns(buy_x_first, start_date, end_date, coins, skip_x_first=0):\n",
    "    max_pos = buy_x_first + skip_x_first\n",
    "    to_return = []\n",
    "    last_coins = {}\n",
    "    dates = sorted(list(all_data[(all_data[\"Date\"] >= start_date) & (all_data[\"Date\"] <= end_date)][\"Date\"].unique()))\n",
    "    for date_ in dates:\n",
    "        ## Convert to usd\n",
    "        date_data = all_data[(all_data[\"Date\"] == date_)]\n",
    "        amount_usd = convert_coins_to_usd(date_data, coins)\n",
    "        to_return.append([date_, round(amount_usd, 2)])\n",
    "\n",
    "        # Buy top X coins\n",
    "        coins_to_buy_data = date_data[(date_data[\"Pos\"] <= max_pos) & (date_data[\"Pos\"] > skip_x_first)]\n",
    "        coins, coins_usd = buy_coins(date_data, amount_usd, buy_x_first, skip_x_first=skip_x_first)\n",
    "        last_coins = [coins, coins_usd]\n",
    "        \n",
    "    return to_return, last_coins\n"
   ]
  },
  {
   "cell_type": "code",
   "execution_count": 7,
   "metadata": {
    "collapsed": true
   },
   "outputs": [],
   "source": [
    "#You have to select a date that is available in the dataset\n",
    "def print_returns_usings_topx(start_date, end_date, initial_coins, buy_x_firsts, show_coins_to_buy=False, skip_x_first=0):\n",
    "    print(\"From: %s to %s\" %(start_date, end_date))\n",
    "    initial = True\n",
    "    coins_to_buy = {}\n",
    "    print(\"Top X Coins\\tFinal Growth\")\n",
    "    for buy_x_first in buy_x_firsts:\n",
    "        calculated_values, coins_to_buy = calculate_returns(buy_x_first, start_date, end_date, initial_coins, skip_x_first=skip_x_first)\n",
    "        print(\"%s\\t%s\" % (buy_x_first, \"%s%%\" % round(100* (calculated_values[-1][1]/calculated_values[0][1]-1),2)))\n",
    "    if show_coins_to_buy:\n",
    "        print(\"\")\n",
    "        print(\"\\t\".join([\"Coin\", \"Total Coins\", \"Coin Price USD\", \"Total USD\"]))\n",
    "        for coin in coins_to_buy[0].keys():\n",
    "            print(\n",
    "                \"\\t\".join([\n",
    "                    str(coin),\n",
    "                    str(coins_to_buy[0][coin]),\n",
    "                    str(coins_to_buy[1][coin]/coins_to_buy[0][coin]), \n",
    "                    str(coins_to_buy[1][coin])\n",
    "                ])\n",
    "            )\n"
   ]
  },
  {
   "cell_type": "code",
   "execution_count": 8,
   "metadata": {},
   "outputs": [
    {
     "name": "stdout",
     "output_type": "stream",
     "text": [
      "From: 2017-01-01 to 2017-04-16\n",
      "Top X Coins\tFinal Growth\n",
      "1\t112.27%\n",
      "2\t170.38%\n",
      "3\t232.66%\n",
      "5\t231.19%\n",
      "10\t215.59%\n",
      "20\t200.29%\n",
      "100\t199.04%\n"
     ]
    }
   ],
   "source": [
    "start_date, end_date = \"2017-01-01\", \"2017-04-16\"\n",
    "initial_coins = {\n",
    "    \"BTC\": 10\n",
    "}\n",
    "buy_x_firsts = [1,2,3,5,10,20,100]\n",
    "skip_x_first = 2\n",
    "print_returns_usings_topx(start_date, end_date, initial_coins, buy_x_firsts, skip_x_first=skip_x_first)\n"
   ]
  },
  {
   "cell_type": "code",
   "execution_count": 9,
   "metadata": {},
   "outputs": [
    {
     "name": "stdout",
     "output_type": "stream",
     "text": [
      "From: 2017-01-01 to 2017-04-16\n",
      "Top X Coins\tFinal Growth\n",
      "1\t22.43%\n",
      "2\t43.59%\n",
      "3\t45.79%\n",
      "5\t51.35%\n",
      "10\t54.3%\n",
      "20\t54.91%\n",
      "100\t57.5%\n"
     ]
    }
   ],
   "source": [
    "start_date, end_date = \"2017-01-01\", \"2017-04-16\"\n",
    "initial_coins = {\n",
    "    \"BTC\": 10\n",
    "}\n",
    "buy_x_firsts = [1,2,3,5,10,20,100]\n",
    "skip_x_first = 0\n",
    "print_returns_usings_topx(start_date, end_date, initial_coins, buy_x_firsts)\n"
   ]
  },
  {
   "cell_type": "code",
   "execution_count": 10,
   "metadata": {},
   "outputs": [
    {
     "name": "stdout",
     "output_type": "stream",
     "text": [
      "From: 2017-04-23 to 2017-04-23\n",
      "Top X Coins\tFinal Growth\n",
      "5\t0.0%\n",
      "\n",
      "Coin\tTotal Coins\tCoin Price USD\tTotal USD\n",
      "BTC\t33.5320383522\t1224.68\t41066.0167292\n",
      "ETH\t187.265866776\t48.47\t9076.77656265\n",
      "XRP\t77988.1300197\t0.031566\t2461.7733122\n",
      "LTC\t104.523714191\t13.85\t1447.65344155\n",
      "DASH\t14.9193678375\t70.94\t1058.37995439\n"
     ]
    }
   ],
   "source": [
    "start_date, end_date = \"2017-04-23\", \"2017-04-23\"\n",
    "initial_coins = {\n",
    "    \"BTC\": 45\n",
    "}\n",
    "buy_x_firsts = [5]\n",
    "print_returns_usings_topx(start_date, end_date, initial_coins, buy_x_firsts, show_coins_to_buy=True)\n",
    "\n"
   ]
  },
  {
   "cell_type": "code",
   "execution_count": 17,
   "metadata": {},
   "outputs": [
    {
     "name": "stdout",
     "output_type": "stream",
     "text": [
      "15454.9675419\n"
     ]
    }
   ],
   "source": [
    "start_date = \"2017-01-01\"\n",
    "amount_usd = 10000\n",
    "buy_x_first = 5\n",
    "skip_x_first = 0\n",
    "date_data = all_data[(all_data[\"Date\"] == start_date)]\n",
    "coins, coins_usd = buy_coins(date_data, amount_usd, buy_x_first, skip_x_first)\n",
    "coins_eq, coins_eq_usd = buy_coins_equaly(date_data, amount_usd, buy_x_first, skip_x_first)\n",
    "coins_factor, coins_factor_usd = buy_coins_factor(date_data, amount_usd, buy_x_first, skip_x_first, factor=2)\n",
    "\n",
    "end_date = \"2017-04-23\"\n",
    "date_data = all_data[(all_data[\"Date\"] == end_date)]\n",
    "print(convert_coins_to_usd(date_data, coins))\n",
    "#print(convert_coins_to_usd(date_data, coins_eq))\n",
    "#print(convert_coins_to_usd(date_data, coins_factor))"
   ]
  },
  {
   "cell_type": "code",
   "execution_count": null,
   "metadata": {
    "collapsed": true
   },
   "outputs": [],
   "source": []
  }
 ],
 "metadata": {
  "kernelspec": {
   "display_name": "Python 3",
   "language": "python",
   "name": "python3"
  },
  "language_info": {
   "codemirror_mode": {
    "name": "ipython",
    "version": 3
   },
   "file_extension": ".py",
   "mimetype": "text/x-python",
   "name": "python",
   "nbconvert_exporter": "python",
   "pygments_lexer": "ipython3",
   "version": "3.6.0"
  }
 },
 "nbformat": 4,
 "nbformat_minor": 2
}
